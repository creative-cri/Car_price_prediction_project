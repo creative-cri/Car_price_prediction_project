{
 "cells": [
  {
   "cell_type": "markdown",
   "id": "188fdcf1",
   "metadata": {},
   "source": [
    "# Car Price Prediction in Poland using Supervised Machine Learning"
   ]
  },
  {
   "cell_type": "markdown",
   "id": "e891b416",
   "metadata": {},
   "source": [
    "## Import & Analyze Data"
   ]
  },
  {
   "cell_type": "code",
   "execution_count": 1,
   "id": "979f0326",
   "metadata": {},
   "outputs": [],
   "source": [
    "import pandas as pd\n",
    "import numpy as np\n",
    "\n",
    "from sklearn.metrics import mean_absolute_error\n",
    "from sklearn.dummy import DummyRegressor"
   ]
  },
  {
   "cell_type": "code",
   "execution_count": 2,
   "id": "3695452b",
   "metadata": {},
   "outputs": [
    {
     "name": "stdout",
     "output_type": "stream",
     "text": [
      "(80129, 10)\n"
     ]
    },
    {
     "data": {
      "text/html": [
       "<div>\n",
       "<style scoped>\n",
       "    .dataframe tbody tr th:only-of-type {\n",
       "        vertical-align: middle;\n",
       "    }\n",
       "\n",
       "    .dataframe tbody tr th {\n",
       "        vertical-align: top;\n",
       "    }\n",
       "\n",
       "    .dataframe thead th {\n",
       "        text-align: right;\n",
       "    }\n",
       "</style>\n",
       "<table border=\"1\" class=\"dataframe\">\n",
       "  <thead>\n",
       "    <tr style=\"text-align: right;\">\n",
       "      <th></th>\n",
       "      <th>id</th>\n",
       "      <th>price_details</th>\n",
       "      <th>price_value</th>\n",
       "      <th>price_currency</th>\n",
       "      <th>features</th>\n",
       "      <th>seller_name</th>\n",
       "      <th>seller_type</th>\n",
       "      <th>seller_address</th>\n",
       "      <th>breadcrumb</th>\n",
       "      <th>offer_params</th>\n",
       "    </tr>\n",
       "  </thead>\n",
       "  <tbody>\n",
       "    <tr>\n",
       "      <th>25332</th>\n",
       "      <td>25332</td>\n",
       "      <td>Cena Brutto, Faktura VAT</td>\n",
       "      <td>76 000</td>\n",
       "      <td>PLN</td>\n",
       "      <td>[ABS, Elektryczne szyby przednie, Poduszka pow...</td>\n",
       "      <td>None</td>\n",
       "      <td>Osoba prywatna</td>\n",
       "      <td>Wrocław, Dolnośląskie, Krzyki</td>\n",
       "      <td>[Osobowe, Audi, A4, Audi A4 B8 (2007-2015)]</td>\n",
       "      <td>{'Bezwypadkowy': 'Tak', 'Liczba miejsc': '5', ...</td>\n",
       "    </tr>\n",
       "    <tr>\n",
       "      <th>133844</th>\n",
       "      <td>133844</td>\n",
       "      <td>Cena Brutto</td>\n",
       "      <td>23 500</td>\n",
       "      <td>PLN</td>\n",
       "      <td>[ABS, Elektryczne szyby przednie, Poduszka pow...</td>\n",
       "      <td>POLSERWIS</td>\n",
       "      <td>Dealer</td>\n",
       "      <td>Ofiar Katynia 32 - 37-450 Stalowa Wola, stalow...</td>\n",
       "      <td>[Osobowe, Renault, Laguna, Renault Laguna III ...</td>\n",
       "      <td>{'Kolor': 'Szary', 'Model pojazdu': 'Laguna', ...</td>\n",
       "    </tr>\n",
       "    <tr>\n",
       "      <th>141494</th>\n",
       "      <td>141494</td>\n",
       "      <td>Cena Brutto</td>\n",
       "      <td>27 999</td>\n",
       "      <td>PLN</td>\n",
       "      <td>[ABS, Elektryczne szyby przednie, Poduszka pow...</td>\n",
       "      <td>MIASTECZKO SAMOCHODOWE OKĘCIE - PEWNE AUTA Z P...</td>\n",
       "      <td>Dealer</td>\n",
       "      <td>Al. Krakowska 178  Biuro C - 02-254 Warszawa, ...</td>\n",
       "      <td>[Osobowe, BMW, Seria 3, 320, BMW Seria 3 E90 (...</td>\n",
       "      <td>{'Bezwypadkowy': 'Tak', 'Liczba miejsc': '5', ...</td>\n",
       "    </tr>\n",
       "    <tr>\n",
       "      <th>70728</th>\n",
       "      <td>70728</td>\n",
       "      <td>Cena Brutto, Faktura VAT</td>\n",
       "      <td>139 900</td>\n",
       "      <td>PLN</td>\n",
       "      <td>[ABS, Elektryczne szyby przednie, Radio fabryc...</td>\n",
       "      <td>CityCar Sp. z o.o.</td>\n",
       "      <td>Dealer</td>\n",
       "      <td>Dąbrowskiego 26 - 44-100 Gliwice, Śląskie (Pol...</td>\n",
       "      <td>[Osobowe, Ford, Kuga, Ford Kuga II (2012-)]</td>\n",
       "      <td>{'Pojemność skokowa': '2 000 cm3', 'Model poja...</td>\n",
       "    </tr>\n",
       "    <tr>\n",
       "      <th>100045</th>\n",
       "      <td>100045</td>\n",
       "      <td>Cena Brutto</td>\n",
       "      <td>44 900</td>\n",
       "      <td>PLN</td>\n",
       "      <td>[ABS, Elektryczne szyby przednie, Poduszka pow...</td>\n",
       "      <td>None</td>\n",
       "      <td>Osoba prywatna</td>\n",
       "      <td>Gliwice, Śląskie, Trynek</td>\n",
       "      <td>[Osobowe, Mazda, 6, Mazda 6 II (2007-2013)]</td>\n",
       "      <td>{'Bezwypadkowy': 'Tak', 'Liczba miejsc': '5', ...</td>\n",
       "    </tr>\n",
       "    <tr>\n",
       "      <th>11375</th>\n",
       "      <td>11375</td>\n",
       "      <td>Cena Brutto, Do negocjacji, Faktura VAT</td>\n",
       "      <td>18 000</td>\n",
       "      <td>PLN</td>\n",
       "      <td>[ABS, Elektryczne szyby przednie, Poduszka pow...</td>\n",
       "      <td>AUTO ,, BUGAJSKI \"</td>\n",
       "      <td>Dealer</td>\n",
       "      <td>BILCZA  UL  KIELECKA 14 - 26-026 Bilcza, kiele...</td>\n",
       "      <td>[Osobowe, Fiat, Punto Evo]</td>\n",
       "      <td>{'Bezwypadkowy': 'Tak', 'Liczba miejsc': '5', ...</td>\n",
       "    </tr>\n",
       "    <tr>\n",
       "      <th>129761</th>\n",
       "      <td>129761</td>\n",
       "      <td>Cena Brutto, Do negocjacji</td>\n",
       "      <td>44 500</td>\n",
       "      <td>PLN</td>\n",
       "      <td>[ABS, Elektryczne szyby przednie, Poduszka pow...</td>\n",
       "      <td>None</td>\n",
       "      <td>Osoba prywatna</td>\n",
       "      <td>Rumia, wejherowski, Pomorskie</td>\n",
       "      <td>[Osobowe, Subaru, Forester, Subaru Forester II...</td>\n",
       "      <td>{'Pojemność skokowa': '2 000 cm3', 'Model poja...</td>\n",
       "    </tr>\n",
       "    <tr>\n",
       "      <th>125817</th>\n",
       "      <td>125817</td>\n",
       "      <td>Cena Brutto</td>\n",
       "      <td>13 900</td>\n",
       "      <td>PLN</td>\n",
       "      <td>[ABS, Immobilizer, Radio fabryczne, Kurtyny po...</td>\n",
       "      <td>F.U.H. IKS-TRANS</td>\n",
       "      <td>Dealer</td>\n",
       "      <td>ul. Wroniecka 28 - 64-560 Ostroróg, szamotulsk...</td>\n",
       "      <td>[Osobowe, Toyota, Yaris, Toyota Yaris II (2005...</td>\n",
       "      <td>{'Pojemność skokowa': '1 000 cm3', 'Model poja...</td>\n",
       "    </tr>\n",
       "    <tr>\n",
       "      <th>36942</th>\n",
       "      <td>36942</td>\n",
       "      <td>Cena Brutto, Faktura VAT</td>\n",
       "      <td>53 990</td>\n",
       "      <td>PLN</td>\n",
       "      <td>[ABS, Elektryczne szyby przednie, Poduszka pow...</td>\n",
       "      <td>GRUPA Super Auto</td>\n",
       "      <td>Dealer</td>\n",
       "      <td>- - 53-413 Wrocław, Dolnośląskie (Polska)</td>\n",
       "      <td>[Osobowe, Citroën, C-Elysée]</td>\n",
       "      <td>{'Bezwypadkowy': 'Tak', 'Liczba miejsc': '5', ...</td>\n",
       "    </tr>\n",
       "    <tr>\n",
       "      <th>67117</th>\n",
       "      <td>67117</td>\n",
       "      <td>Cena Brutto, Do negocjacji</td>\n",
       "      <td>16 900</td>\n",
       "      <td>PLN</td>\n",
       "      <td>[ABS, Elektryczne szyby przednie, Poduszka pow...</td>\n",
       "      <td>Daro Truck</td>\n",
       "      <td>Dealer</td>\n",
       "      <td>Ełcka 4 - 19-400 Olecko, olecki, Warmińsko-maz...</td>\n",
       "      <td>[Osobowe, Škoda, Octavia, Škoda Octavia II (20...</td>\n",
       "      <td>{'Bezwypadkowy': 'Tak', 'Liczba miejsc': '5', ...</td>\n",
       "    </tr>\n",
       "  </tbody>\n",
       "</table>\n",
       "</div>"
      ],
      "text/plain": [
       "            id                            price_details price_value  \\\n",
       "25332    25332                 Cena Brutto, Faktura VAT      76 000   \n",
       "133844  133844                              Cena Brutto      23 500   \n",
       "141494  141494                              Cena Brutto      27 999   \n",
       "70728    70728                 Cena Brutto, Faktura VAT     139 900   \n",
       "100045  100045                              Cena Brutto      44 900   \n",
       "11375    11375  Cena Brutto, Do negocjacji, Faktura VAT      18 000   \n",
       "129761  129761               Cena Brutto, Do negocjacji      44 500   \n",
       "125817  125817                              Cena Brutto      13 900   \n",
       "36942    36942                 Cena Brutto, Faktura VAT      53 990   \n",
       "67117    67117               Cena Brutto, Do negocjacji      16 900   \n",
       "\n",
       "       price_currency                                           features  \\\n",
       "25332             PLN  [ABS, Elektryczne szyby przednie, Poduszka pow...   \n",
       "133844            PLN  [ABS, Elektryczne szyby przednie, Poduszka pow...   \n",
       "141494            PLN  [ABS, Elektryczne szyby przednie, Poduszka pow...   \n",
       "70728             PLN  [ABS, Elektryczne szyby przednie, Radio fabryc...   \n",
       "100045            PLN  [ABS, Elektryczne szyby przednie, Poduszka pow...   \n",
       "11375             PLN  [ABS, Elektryczne szyby przednie, Poduszka pow...   \n",
       "129761            PLN  [ABS, Elektryczne szyby przednie, Poduszka pow...   \n",
       "125817            PLN  [ABS, Immobilizer, Radio fabryczne, Kurtyny po...   \n",
       "36942             PLN  [ABS, Elektryczne szyby przednie, Poduszka pow...   \n",
       "67117             PLN  [ABS, Elektryczne szyby przednie, Poduszka pow...   \n",
       "\n",
       "                                              seller_name     seller_type  \\\n",
       "25332                                                None  Osoba prywatna   \n",
       "133844                                          POLSERWIS          Dealer   \n",
       "141494  MIASTECZKO SAMOCHODOWE OKĘCIE - PEWNE AUTA Z P...          Dealer   \n",
       "70728                                  CityCar Sp. z o.o.          Dealer   \n",
       "100045                                               None  Osoba prywatna   \n",
       "11375                                  AUTO ,, BUGAJSKI \"          Dealer   \n",
       "129761                                               None  Osoba prywatna   \n",
       "125817                                   F.U.H. IKS-TRANS          Dealer   \n",
       "36942                                    GRUPA Super Auto          Dealer   \n",
       "67117                                          Daro Truck          Dealer   \n",
       "\n",
       "                                           seller_address  \\\n",
       "25332                       Wrocław, Dolnośląskie, Krzyki   \n",
       "133844  Ofiar Katynia 32 - 37-450 Stalowa Wola, stalow...   \n",
       "141494  Al. Krakowska 178  Biuro C - 02-254 Warszawa, ...   \n",
       "70728   Dąbrowskiego 26 - 44-100 Gliwice, Śląskie (Pol...   \n",
       "100045                           Gliwice, Śląskie, Trynek   \n",
       "11375   BILCZA  UL  KIELECKA 14 - 26-026 Bilcza, kiele...   \n",
       "129761                      Rumia, wejherowski, Pomorskie   \n",
       "125817  ul. Wroniecka 28 - 64-560 Ostroróg, szamotulsk...   \n",
       "36942           - - 53-413 Wrocław, Dolnośląskie (Polska)   \n",
       "67117   Ełcka 4 - 19-400 Olecko, olecki, Warmińsko-maz...   \n",
       "\n",
       "                                               breadcrumb  \\\n",
       "25332         [Osobowe, Audi, A4, Audi A4 B8 (2007-2015)]   \n",
       "133844  [Osobowe, Renault, Laguna, Renault Laguna III ...   \n",
       "141494  [Osobowe, BMW, Seria 3, 320, BMW Seria 3 E90 (...   \n",
       "70728         [Osobowe, Ford, Kuga, Ford Kuga II (2012-)]   \n",
       "100045        [Osobowe, Mazda, 6, Mazda 6 II (2007-2013)]   \n",
       "11375                          [Osobowe, Fiat, Punto Evo]   \n",
       "129761  [Osobowe, Subaru, Forester, Subaru Forester II...   \n",
       "125817  [Osobowe, Toyota, Yaris, Toyota Yaris II (2005...   \n",
       "36942                        [Osobowe, Citroën, C-Elysée]   \n",
       "67117   [Osobowe, Škoda, Octavia, Škoda Octavia II (20...   \n",
       "\n",
       "                                             offer_params  \n",
       "25332   {'Bezwypadkowy': 'Tak', 'Liczba miejsc': '5', ...  \n",
       "133844  {'Kolor': 'Szary', 'Model pojazdu': 'Laguna', ...  \n",
       "141494  {'Bezwypadkowy': 'Tak', 'Liczba miejsc': '5', ...  \n",
       "70728   {'Pojemność skokowa': '2 000 cm3', 'Model poja...  \n",
       "100045  {'Bezwypadkowy': 'Tak', 'Liczba miejsc': '5', ...  \n",
       "11375   {'Bezwypadkowy': 'Tak', 'Liczba miejsc': '5', ...  \n",
       "129761  {'Pojemność skokowa': '2 000 cm3', 'Model poja...  \n",
       "125817  {'Pojemność skokowa': '1 000 cm3', 'Model poja...  \n",
       "36942   {'Bezwypadkowy': 'Tak', 'Liczba miejsc': '5', ...  \n",
       "67117   {'Bezwypadkowy': 'Tak', 'Liczba miejsc': '5', ...  "
      ]
     },
     "execution_count": 2,
     "metadata": {},
     "output_type": "execute_result"
    }
   ],
   "source": [
    "df = pd.read_hdf(\"df.train.new.h5\")\n",
    "print(df.shape)\n",
    "\n",
    "df.sample(10)"
   ]
  },
  {
   "cell_type": "markdown",
   "id": "4c31f6ec",
   "metadata": {},
   "source": [
    "## Checking price column & data cleaning"
   ]
  },
  {
   "cell_type": "code",
   "execution_count": 5,
   "id": "abfd5262",
   "metadata": {},
   "outputs": [
    {
     "data": {
      "text/plain": [
       "7         63900.0\n",
       "10        41900.0\n",
       "11        17950.0\n",
       "14        38000.0\n",
       "16        21900.0\n",
       "           ...   \n",
       "160252    22800.0\n",
       "160253    29900.0\n",
       "160255    42500.0\n",
       "160256     4900.0\n",
       "160257    46000.0\n",
       "Name: price_value, Length: 80129, dtype: float64"
      ]
     },
     "execution_count": 5,
     "metadata": {},
     "output_type": "execute_result"
    }
   ],
   "source": [
    "df['price_value'] = df['price_value'].str.replace(\" \", \"\").str.replace(\",\", \".\").astype(float)\n",
    "df['price_value']"
   ]
  },
  {
   "cell_type": "code",
   "execution_count": 6,
   "id": "82499c17",
   "metadata": {},
   "outputs": [
    {
     "data": {
      "text/plain": [
       "744524.0960000113"
      ]
     },
     "execution_count": 6,
     "metadata": {},
     "output_type": "execute_result"
    }
   ],
   "source": [
    "np.percentile(df['price_value'], 99.9)"
   ]
  },
  {
   "cell_type": "code",
   "execution_count": 7,
   "id": "78d89370",
   "metadata": {},
   "outputs": [
    {
     "data": {
      "text/plain": [
       "106447    1.000000e+13\n",
       "Name: price_value, dtype: float64"
      ]
     },
     "execution_count": 7,
     "metadata": {},
     "output_type": "execute_result"
    }
   ],
   "source": [
    "df[ df[\"price_value\"] > 10000000 ][\"price_value\"]"
   ]
  },
  {
   "cell_type": "code",
   "execution_count": 8,
   "id": "07ae5010",
   "metadata": {},
   "outputs": [],
   "source": [
    "df = df[ df.index != 106447 ]"
   ]
  },
  {
   "cell_type": "code",
   "execution_count": 9,
   "id": "cfd5dfea",
   "metadata": {},
   "outputs": [
    {
     "data": {
      "text/plain": [
       "count    8.012800e+04\n",
       "mean     4.834785e+04\n",
       "std      7.313622e+04\n",
       "min      5.000000e+02\n",
       "25%      1.390000e+04\n",
       "50%      2.560000e+04\n",
       "75%      5.290000e+04\n",
       "max      2.545412e+06\n",
       "Name: price_value, dtype: float64"
      ]
     },
     "execution_count": 9,
     "metadata": {},
     "output_type": "execute_result"
    }
   ],
   "source": [
    "df['price_value'].describe()"
   ]
  },
  {
   "cell_type": "markdown",
   "id": "3e44086f",
   "metadata": {},
   "source": [
    "## Creating manual model version"
   ]
  },
  {
   "cell_type": "code",
   "execution_count": 10,
   "id": "138f8a80",
   "metadata": {},
   "outputs": [
    {
     "data": {
      "text/plain": [
       "48347.85371056308"
      ]
     },
     "execution_count": 10,
     "metadata": {},
     "output_type": "execute_result"
    }
   ],
   "source": [
    "price_mean = df[\"price_value\"].mean()\n",
    "df[\"price_pred\"] = price_mean\n",
    "price_mean"
   ]
  },
  {
   "cell_type": "code",
   "execution_count": 11,
   "id": "5a40b4c7",
   "metadata": {},
   "outputs": [
    {
     "data": {
      "text/html": [
       "<div>\n",
       "<style scoped>\n",
       "    .dataframe tbody tr th:only-of-type {\n",
       "        vertical-align: middle;\n",
       "    }\n",
       "\n",
       "    .dataframe tbody tr th {\n",
       "        vertical-align: top;\n",
       "    }\n",
       "\n",
       "    .dataframe thead th {\n",
       "        text-align: right;\n",
       "    }\n",
       "</style>\n",
       "<table border=\"1\" class=\"dataframe\">\n",
       "  <thead>\n",
       "    <tr style=\"text-align: right;\">\n",
       "      <th></th>\n",
       "      <th>id</th>\n",
       "      <th>price_details</th>\n",
       "      <th>price_value</th>\n",
       "      <th>price_currency</th>\n",
       "      <th>features</th>\n",
       "      <th>seller_name</th>\n",
       "      <th>seller_type</th>\n",
       "      <th>seller_address</th>\n",
       "      <th>breadcrumb</th>\n",
       "      <th>offer_params</th>\n",
       "      <th>price_pred</th>\n",
       "    </tr>\n",
       "  </thead>\n",
       "  <tbody>\n",
       "    <tr>\n",
       "      <th>31413</th>\n",
       "      <td>31413</td>\n",
       "      <td>Cena Brutto, Faktura VAT</td>\n",
       "      <td>46900.0</td>\n",
       "      <td>PLN</td>\n",
       "      <td>[Poduszki boczne przednie, Centralny zamek, El...</td>\n",
       "      <td>Westmotor Poznań</td>\n",
       "      <td>Dealer</td>\n",
       "      <td>Obornicka 125, Suchy Las - 62-002 Suchy Las, p...</td>\n",
       "      <td>[Osobowe, Opel, Corsa, Opel Corsa E (2014-)]</td>\n",
       "      <td>{'Pojemność skokowa': '1 398 cm3', 'Model poja...</td>\n",
       "      <td>48347.853711</td>\n",
       "    </tr>\n",
       "    <tr>\n",
       "      <th>71411</th>\n",
       "      <td>71411</td>\n",
       "      <td>Cena Brutto, Do negocjacji</td>\n",
       "      <td>76000.0</td>\n",
       "      <td>PLN</td>\n",
       "      <td>[ABS, Elektryczne szyby przednie, Poduszka pow...</td>\n",
       "      <td>None</td>\n",
       "      <td>Osoba prywatna</td>\n",
       "      <td>Zabrze, Śląskie</td>\n",
       "      <td>[Osobowe, BMW, Seria 5, 528, BMW Seria 5 F10 (...</td>\n",
       "      <td>{'Bezwypadkowy': 'Tak', 'Liczba miejsc': '5', ...</td>\n",
       "      <td>48347.853711</td>\n",
       "    </tr>\n",
       "    <tr>\n",
       "      <th>4499</th>\n",
       "      <td>4499</td>\n",
       "      <td>Cena Netto, Faktura VAT</td>\n",
       "      <td>102000.0</td>\n",
       "      <td>PLN</td>\n",
       "      <td>[ABS, Elektryczne szyby przednie, Poduszka pow...</td>\n",
       "      <td>Taniej niż w salonie</td>\n",
       "      <td>Dealer</td>\n",
       "      <td>Wielkotyrnowska 11 - 31-326 Kraków, Krowodrza ...</td>\n",
       "      <td>[Osobowe, BMW, X2]</td>\n",
       "      <td>{'Kolor': 'Czarny', 'Model pojazdu': 'X2', 'Li...</td>\n",
       "      <td>48347.853711</td>\n",
       "    </tr>\n",
       "    <tr>\n",
       "      <th>140106</th>\n",
       "      <td>140106</td>\n",
       "      <td>Cena Brutto, Do negocjacji</td>\n",
       "      <td>23999.0</td>\n",
       "      <td>PLN</td>\n",
       "      <td>[ABS, Elektryczne szyby przednie, Poduszka pow...</td>\n",
       "      <td>None</td>\n",
       "      <td>Osoba prywatna</td>\n",
       "      <td>Olkusz, olkuski, Małopolskie</td>\n",
       "      <td>[Osobowe, Mazda, 3, Mazda 3 II (2009-2013)]</td>\n",
       "      <td>{'Bezwypadkowy': 'Tak', 'Liczba miejsc': '5', ...</td>\n",
       "      <td>48347.853711</td>\n",
       "    </tr>\n",
       "    <tr>\n",
       "      <th>111471</th>\n",
       "      <td>111471</td>\n",
       "      <td>Cena Brutto</td>\n",
       "      <td>24700.0</td>\n",
       "      <td>PLN</td>\n",
       "      <td>[ABS, Elektryczne szyby przednie, Poduszka pow...</td>\n",
       "      <td>Dan-Car</td>\n",
       "      <td>Dealer</td>\n",
       "      <td>Al.Jerozolimskie 452 - 05-800 Pruszków, pruszk...</td>\n",
       "      <td>[Osobowe, Dodge, Caliber]</td>\n",
       "      <td>{'Kolor': 'Bordowy', 'Model pojazdu': 'Caliber...</td>\n",
       "      <td>48347.853711</td>\n",
       "    </tr>\n",
       "  </tbody>\n",
       "</table>\n",
       "</div>"
      ],
      "text/plain": [
       "            id               price_details  price_value price_currency  \\\n",
       "31413    31413    Cena Brutto, Faktura VAT      46900.0            PLN   \n",
       "71411    71411  Cena Brutto, Do negocjacji      76000.0            PLN   \n",
       "4499      4499     Cena Netto, Faktura VAT     102000.0            PLN   \n",
       "140106  140106  Cena Brutto, Do negocjacji      23999.0            PLN   \n",
       "111471  111471                 Cena Brutto      24700.0            PLN   \n",
       "\n",
       "                                                 features  \\\n",
       "31413   [Poduszki boczne przednie, Centralny zamek, El...   \n",
       "71411   [ABS, Elektryczne szyby przednie, Poduszka pow...   \n",
       "4499    [ABS, Elektryczne szyby przednie, Poduszka pow...   \n",
       "140106  [ABS, Elektryczne szyby przednie, Poduszka pow...   \n",
       "111471  [ABS, Elektryczne szyby przednie, Poduszka pow...   \n",
       "\n",
       "                 seller_name     seller_type  \\\n",
       "31413       Westmotor Poznań          Dealer   \n",
       "71411                   None  Osoba prywatna   \n",
       "4499    Taniej niż w salonie          Dealer   \n",
       "140106                  None  Osoba prywatna   \n",
       "111471               Dan-Car          Dealer   \n",
       "\n",
       "                                           seller_address  \\\n",
       "31413   Obornicka 125, Suchy Las - 62-002 Suchy Las, p...   \n",
       "71411                                     Zabrze, Śląskie   \n",
       "4499    Wielkotyrnowska 11 - 31-326 Kraków, Krowodrza ...   \n",
       "140106                       Olkusz, olkuski, Małopolskie   \n",
       "111471  Al.Jerozolimskie 452 - 05-800 Pruszków, pruszk...   \n",
       "\n",
       "                                               breadcrumb  \\\n",
       "31413        [Osobowe, Opel, Corsa, Opel Corsa E (2014-)]   \n",
       "71411   [Osobowe, BMW, Seria 5, 528, BMW Seria 5 F10 (...   \n",
       "4499                                   [Osobowe, BMW, X2]   \n",
       "140106        [Osobowe, Mazda, 3, Mazda 3 II (2009-2013)]   \n",
       "111471                          [Osobowe, Dodge, Caliber]   \n",
       "\n",
       "                                             offer_params    price_pred  \n",
       "31413   {'Pojemność skokowa': '1 398 cm3', 'Model poja...  48347.853711  \n",
       "71411   {'Bezwypadkowy': 'Tak', 'Liczba miejsc': '5', ...  48347.853711  \n",
       "4499    {'Kolor': 'Czarny', 'Model pojazdu': 'X2', 'Li...  48347.853711  \n",
       "140106  {'Bezwypadkowy': 'Tak', 'Liczba miejsc': '5', ...  48347.853711  \n",
       "111471  {'Kolor': 'Bordowy', 'Model pojazdu': 'Caliber...  48347.853711  "
      ]
     },
     "execution_count": 11,
     "metadata": {},
     "output_type": "execute_result"
    }
   ],
   "source": [
    "df.sample(5)"
   ]
  },
  {
   "cell_type": "code",
   "execution_count": 12,
   "id": "5db62e8f",
   "metadata": {},
   "outputs": [
    {
     "data": {
      "text/plain": [
       "40522.09786542827"
      ]
     },
     "execution_count": 12,
     "metadata": {},
     "output_type": "execute_result"
    }
   ],
   "source": [
    "#error calculation\n",
    "\n",
    "df[\"price_diff\"] = df[\"price_pred\"] - df[\"price_value\"]\n",
    "\n",
    "df[\"price_diff\"].abs().mean()"
   ]
  },
  {
   "cell_type": "code",
   "execution_count": 13,
   "id": "dbaf58fa",
   "metadata": {},
   "outputs": [
    {
     "data": {
      "text/plain": [
       "40522.09786540297"
      ]
     },
     "execution_count": 13,
     "metadata": {},
     "output_type": "execute_result"
    }
   ],
   "source": [
    "mean_absolute_error(df[\"price_value\"], df[\"price_pred\"])"
   ]
  },
  {
   "cell_type": "code",
   "execution_count": 14,
   "id": "ddb4d949",
   "metadata": {},
   "outputs": [
    {
     "data": {
      "text/plain": [
       "34552.570975439296"
      ]
     },
     "execution_count": 14,
     "metadata": {},
     "output_type": "execute_result"
    }
   ],
   "source": [
    "df[\"price_pred\"] = df[\"price_value\"].median()\n",
    "mean_absolute_error(df[\"price_value\"], df[\"price_pred\"])"
   ]
  },
  {
   "cell_type": "markdown",
   "id": "62e52b77",
   "metadata": {},
   "source": [
    "## ML Model Creation"
   ]
  },
  {
   "cell_type": "code",
   "execution_count": 15,
   "id": "f6c2f8b2",
   "metadata": {},
   "outputs": [],
   "source": [
    "feats = [\"id\"]\n",
    "X = df[feats]\n",
    "y = df[\"price_value\"]"
   ]
  },
  {
   "cell_type": "markdown",
   "id": "2dcaccb7",
   "metadata": {},
   "source": [
    "## Train Model & Error Calculation"
   ]
  },
  {
   "cell_type": "code",
   "execution_count": 16,
   "id": "81d9f2bc",
   "metadata": {},
   "outputs": [
    {
     "data": {
      "text/plain": [
       "40522.097865402975"
      ]
     },
     "execution_count": 16,
     "metadata": {},
     "output_type": "execute_result"
    }
   ],
   "source": [
    "model = DummyRegressor(strategy=\"mean\")\n",
    "model.fit(X, y)\n",
    "y_pred = model.predict(X)\n",
    "\n",
    "mean_absolute_error(y, y_pred)"
   ]
  },
  {
   "cell_type": "code",
   "execution_count": 17,
   "id": "ac4c53ee",
   "metadata": {},
   "outputs": [
    {
     "data": {
      "text/plain": [
       "34552.570975439296"
      ]
     },
     "execution_count": 17,
     "metadata": {},
     "output_type": "execute_result"
    }
   ],
   "source": [
    "model = DummyRegressor(strategy=\"median\")\n",
    "model.fit(X, y)\n",
    "y_pred = model.predict(X)\n",
    "\n",
    "mean_absolute_error(y, y_pred)"
   ]
  },
  {
   "cell_type": "code",
   "execution_count": 18,
   "id": "e4d8fdb1",
   "metadata": {},
   "outputs": [
    {
     "data": {
      "text/html": [
       "<div>\n",
       "<style scoped>\n",
       "    .dataframe tbody tr th:only-of-type {\n",
       "        vertical-align: middle;\n",
       "    }\n",
       "\n",
       "    .dataframe tbody tr th {\n",
       "        vertical-align: top;\n",
       "    }\n",
       "\n",
       "    .dataframe thead th {\n",
       "        text-align: right;\n",
       "    }\n",
       "</style>\n",
       "<table border=\"1\" class=\"dataframe\">\n",
       "  <thead>\n",
       "    <tr style=\"text-align: right;\">\n",
       "      <th></th>\n",
       "      <th>id</th>\n",
       "      <th>price_value</th>\n",
       "    </tr>\n",
       "  </thead>\n",
       "  <tbody>\n",
       "    <tr>\n",
       "      <th>0</th>\n",
       "      <td>0</td>\n",
       "      <td>25600.0</td>\n",
       "    </tr>\n",
       "    <tr>\n",
       "      <th>1</th>\n",
       "      <td>1</td>\n",
       "      <td>25600.0</td>\n",
       "    </tr>\n",
       "    <tr>\n",
       "      <th>2</th>\n",
       "      <td>2</td>\n",
       "      <td>25600.0</td>\n",
       "    </tr>\n",
       "    <tr>\n",
       "      <th>3</th>\n",
       "      <td>3</td>\n",
       "      <td>25600.0</td>\n",
       "    </tr>\n",
       "    <tr>\n",
       "      <th>4</th>\n",
       "      <td>4</td>\n",
       "      <td>25600.0</td>\n",
       "    </tr>\n",
       "    <tr>\n",
       "      <th>...</th>\n",
       "      <td>...</td>\n",
       "      <td>...</td>\n",
       "    </tr>\n",
       "    <tr>\n",
       "      <th>160245</th>\n",
       "      <td>160245</td>\n",
       "      <td>25600.0</td>\n",
       "    </tr>\n",
       "    <tr>\n",
       "      <th>160246</th>\n",
       "      <td>160246</td>\n",
       "      <td>25600.0</td>\n",
       "    </tr>\n",
       "    <tr>\n",
       "      <th>160247</th>\n",
       "      <td>160247</td>\n",
       "      <td>25600.0</td>\n",
       "    </tr>\n",
       "    <tr>\n",
       "      <th>160251</th>\n",
       "      <td>160251</td>\n",
       "      <td>25600.0</td>\n",
       "    </tr>\n",
       "    <tr>\n",
       "      <th>160254</th>\n",
       "      <td>160254</td>\n",
       "      <td>25600.0</td>\n",
       "    </tr>\n",
       "  </tbody>\n",
       "</table>\n",
       "<p>80129 rows × 2 columns</p>\n",
       "</div>"
      ],
      "text/plain": [
       "            id  price_value\n",
       "0            0      25600.0\n",
       "1            1      25600.0\n",
       "2            2      25600.0\n",
       "3            3      25600.0\n",
       "4            4      25600.0\n",
       "...        ...          ...\n",
       "160245  160245      25600.0\n",
       "160246  160246      25600.0\n",
       "160247  160247      25600.0\n",
       "160251  160251      25600.0\n",
       "160254  160254      25600.0\n",
       "\n",
       "[80129 rows x 2 columns]"
      ]
     },
     "execution_count": 18,
     "metadata": {},
     "output_type": "execute_result"
    }
   ],
   "source": [
    "df_test = pd.read_hdf(\"df.test.h5\")\n",
    "\n",
    "X_test = df_test[feats]\n",
    "df_test[\"price_value\"] = model.predict(X_test)\n",
    "\n",
    "df_test[[\"id\", \"price_value\"]]"
   ]
  },
  {
   "cell_type": "code",
   "execution_count": 20,
   "id": "bb177bac",
   "metadata": {},
   "outputs": [],
   "source": [
    "df_test[[\"id\", \"price_value\"]].to_csv(\"dummy.csv\", index=False)"
   ]
  }
 ],
 "metadata": {
  "kernelspec": {
   "display_name": "Python 3 (ipykernel)",
   "language": "python",
   "name": "python3"
  },
  "language_info": {
   "codemirror_mode": {
    "name": "ipython",
    "version": 3
   },
   "file_extension": ".py",
   "mimetype": "text/x-python",
   "name": "python",
   "nbconvert_exporter": "python",
   "pygments_lexer": "ipython3",
   "version": "3.9.7"
  }
 },
 "nbformat": 4,
 "nbformat_minor": 5
}
